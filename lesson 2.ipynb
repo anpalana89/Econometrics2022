{
 "cells": [
  {
   "cell_type": "markdown",
   "id": "76c15dd6",
   "metadata": {},
   "source": [
    "# list, find the length, find elements between the second element and the 3rd from the end, use append, use remove"
   ]
  },
  {
   "cell_type": "code",
   "execution_count": 1,
   "id": "81cc9979",
   "metadata": {},
   "outputs": [
    {
     "data": {
      "text/plain": [
       "10"
      ]
     },
     "execution_count": 1,
     "metadata": {},
     "output_type": "execute_result"
    }
   ],
   "source": [
    "list_1 = [1, 4, 8, 2, 0, 6, 9, 3, 5, 2]\n",
    "len(list_1)"
   ]
  },
  {
   "cell_type": "code",
   "execution_count": 2,
   "id": "c456871d",
   "metadata": {},
   "outputs": [
    {
     "name": "stdout",
     "output_type": "stream",
     "text": [
      "[8, 2, 0, 6, 9]\n"
     ]
    }
   ],
   "source": [
    "print(list_1[2:-3])"
   ]
  },
  {
   "cell_type": "code",
   "execution_count": 4,
   "id": "f942b250",
   "metadata": {},
   "outputs": [],
   "source": [
    "list_1.append(\"cat\")"
   ]
  },
  {
   "cell_type": "code",
   "execution_count": 5,
   "id": "56e43867",
   "metadata": {},
   "outputs": [
    {
     "data": {
      "text/plain": [
       "[1, 4, 8, 2, 0, 6, 9, 3, 5, 2, 'cat', 'cat']"
      ]
     },
     "execution_count": 5,
     "metadata": {},
     "output_type": "execute_result"
    }
   ],
   "source": [
    "list_1"
   ]
  },
  {
   "cell_type": "code",
   "execution_count": 6,
   "id": "d1b84980",
   "metadata": {},
   "outputs": [],
   "source": [
    "list_1.remove(\"cat\")"
   ]
  },
  {
   "cell_type": "code",
   "execution_count": 7,
   "id": "f50918e8",
   "metadata": {},
   "outputs": [
    {
     "data": {
      "text/plain": [
       "[1, 4, 8, 2, 0, 6, 9, 3, 5, 2, 'cat']"
      ]
     },
     "execution_count": 7,
     "metadata": {},
     "output_type": "execute_result"
    }
   ],
   "source": [
    "list_1"
   ]
  },
  {
   "cell_type": "code",
   "execution_count": null,
   "id": "f611fb3c",
   "metadata": {},
   "outputs": [],
   "source": []
  }
 ],
 "metadata": {
  "kernelspec": {
   "display_name": "Python 3 (ipykernel)",
   "language": "python",
   "name": "python3"
  },
  "language_info": {
   "codemirror_mode": {
    "name": "ipython",
    "version": 3
   },
   "file_extension": ".py",
   "mimetype": "text/x-python",
   "name": "python",
   "nbconvert_exporter": "python",
   "pygments_lexer": "ipython3",
   "version": "3.9.7"
  }
 },
 "nbformat": 4,
 "nbformat_minor": 5
}
