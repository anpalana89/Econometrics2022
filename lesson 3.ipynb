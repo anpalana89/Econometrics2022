{
 "cells": [
  {
   "cell_type": "markdown",
   "id": "ca8e494c",
   "metadata": {},
   "source": [
    "# 1. declare for loop for numbers in range of your choice and multiply each number by 5\n",
    "# 2. declare list of length 10 and with while loop decrease it each time by 1 element"
   ]
  },
  {
   "cell_type": "code",
   "execution_count": 1,
   "id": "824e64fc",
   "metadata": {},
   "outputs": [
    {
     "name": "stdout",
     "output_type": "stream",
     "text": [
      "0\n",
      "5\n",
      "10\n",
      "15\n",
      "20\n",
      "25\n",
      "30\n",
      "35\n",
      "40\n",
      "45\n",
      "50\n",
      "55\n"
     ]
    }
   ],
   "source": [
    "for a in range (12):\n",
    "    a *= 5\n",
    "    print(a)\n"
   ]
  },
  {
   "cell_type": "code",
   "execution_count": 2,
   "id": "93cbdfce",
   "metadata": {},
   "outputs": [],
   "source": [
    "n = 0 "
   ]
  },
  {
   "cell_type": "code",
   "execution_count": 3,
   "id": "c79ea280",
   "metadata": {},
   "outputs": [
    {
     "name": "stdout",
     "output_type": "stream",
     "text": [
      "[3, 5, 7, 9, 2, 4, 6, 8, 1]\n",
      "[3, 5, 7, 9, 2, 4, 6, 8]\n",
      "[3, 5, 7, 9, 2, 4, 6]\n",
      "[3, 5, 7, 9, 2, 4]\n",
      "[3, 5, 7, 9, 2]\n",
      "[3, 5, 7, 9]\n",
      "[3, 5, 7]\n",
      "[3, 5]\n",
      "[3]\n",
      "[]\n"
     ]
    }
   ],
   "source": [
    "list_1 = [3,5,7,9,2,4,6,8,1,0]\n",
    "while n < 10:\n",
    "    list_1.pop()\n",
    "    n+=1\n",
    "    print(list_1)"
   ]
  },
  {
   "cell_type": "code",
   "execution_count": null,
   "id": "ad39a368",
   "metadata": {},
   "outputs": [],
   "source": []
  }
 ],
 "metadata": {
  "kernelspec": {
   "display_name": "Python 3 (ipykernel)",
   "language": "python",
   "name": "python3"
  },
  "language_info": {
   "codemirror_mode": {
    "name": "ipython",
    "version": 3
   },
   "file_extension": ".py",
   "mimetype": "text/x-python",
   "name": "python",
   "nbconvert_exporter": "python",
   "pygments_lexer": "ipython3",
   "version": "3.9.7"
  }
 },
 "nbformat": 4,
 "nbformat_minor": 5
}
