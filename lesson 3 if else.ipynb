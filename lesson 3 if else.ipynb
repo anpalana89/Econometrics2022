{
 "cells": [
  {
   "cell_type": "code",
   "execution_count": 1,
   "id": "8ddf733b",
   "metadata": {},
   "outputs": [],
   "source": [
    "# declare list with any types of elements and use if-else and if-elif-else to get the result of your condition\n"
   ]
  },
  {
   "cell_type": "code",
   "execution_count": 3,
   "id": "a1055b43",
   "metadata": {},
   "outputs": [],
   "source": [
    "list_1 = [3,5,1,2,8,5,0]"
   ]
  },
  {
   "cell_type": "code",
   "execution_count": 5,
   "id": "7b48348e",
   "metadata": {},
   "outputs": [
    {
     "name": "stdout",
     "output_type": "stream",
     "text": [
      "8\n"
     ]
    }
   ],
   "source": [
    "if 8 in list_1:\n",
    "    print(8)\n",
    "else:\n",
    "    print(\"not in the list\")"
   ]
  },
  {
   "cell_type": "code",
   "execution_count": 7,
   "id": "ab26505c",
   "metadata": {},
   "outputs": [
    {
     "name": "stdout",
     "output_type": "stream",
     "text": [
      "the sum is less than 150\n"
     ]
    }
   ],
   "source": [
    "if sum(list_1) == 0:\n",
    "    print(\"the sum of elements is zero\")\n",
    "elif sum(list_1) < 150:\n",
    "    print(\"the sum is less than 150\")\n",
    "else:\n",
    "    print(\"the sum is not within 0-150\")\n",
    "\n",
    "    "
   ]
  },
  {
   "cell_type": "code",
   "execution_count": null,
   "id": "4427c531",
   "metadata": {},
   "outputs": [],
   "source": []
  }
 ],
 "metadata": {
  "kernelspec": {
   "display_name": "Python 3 (ipykernel)",
   "language": "python",
   "name": "python3"
  },
  "language_info": {
   "codemirror_mode": {
    "name": "ipython",
    "version": 3
   },
   "file_extension": ".py",
   "mimetype": "text/x-python",
   "name": "python",
   "nbconvert_exporter": "python",
   "pygments_lexer": "ipython3",
   "version": "3.9.7"
  }
 },
 "nbformat": 4,
 "nbformat_minor": 5
}
